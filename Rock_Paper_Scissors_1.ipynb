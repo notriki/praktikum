{
  "nbformat": 4,
  "nbformat_minor": 0,
  "metadata": {
    "colab": {
      "name": "Rock-Paper-Scissors-1.ipynb",
      "provenance": [],
      "collapsed_sections": [],
      "authorship_tag": "ABX9TyODzfx8IURlmXWd/1HtJPIF",
      "include_colab_link": true
    },
    "kernelspec": {
      "name": "python3",
      "display_name": "Python 3"
    },
    "language_info": {
      "name": "python"
    }
  },
  "cells": [
    {
      "cell_type": "markdown",
      "metadata": {
        "id": "view-in-github",
        "colab_type": "text"
      },
      "source": [
        "<a href=\"https://colab.research.google.com/github/notriki/praktikum/blob/main/Rock_Paper_Scissors_1.ipynb\" target=\"_parent\"><img src=\"https://colab.research.google.com/assets/colab-badge.svg\" alt=\"Open In Colab\"/></a>"
      ]
    },
    {
      "cell_type": "code",
      "metadata": {
        "colab": {
          "base_uri": "https://localhost:8080/"
        },
        "id": "4x7FwMl4DUZi",
        "outputId": "0e4b8930-0109-4d9c-f38c-0d6ae4e8bac7"
      },
      "source": [
        "import random\n",
        "\n",
        "input(\"Welcome to Rock, Paper, Scissors! Press Enter to Start.\")\n",
        "print()\n",
        "user_wins = 0\n",
        "computer_wins = 0\n",
        "\n",
        "choices = [\"rock\",\"paper\",\"scissors\"]\n",
        "\n",
        "while True:\n",
        "  random_index = random.randint(0,2)\n",
        "  cpu_choice = choices[random_index]\n",
        "\n",
        "  user_choice = input(\"Rock, Paper, or Scissors? \").lower()\n",
        "  while user_choice not in choices:\n",
        "    user_choice = input(\"That is not a valid choice. Please try again: \").lower()\n",
        "  \n",
        "  print()\n",
        "  print(\"Your choice:\", user_choice)\n",
        "  print(\"Computer's choice:\", cpu_choice)\n",
        "  print()\n",
        "\n",
        "  if user_choice == 'rock':\n",
        "    if cpu_choice == 'rock':\n",
        "      print(\"It's a tie!\")\n",
        "    elif cpu_choice == 'scissors':\n",
        "      print(\"You Win!\")\n",
        "      user_wins+=1\n",
        "    elif cpu_choice == 'paper':\n",
        "      print(\"You Lose!\")\n",
        "      computer_wins+=1\n",
        "  elif user_choice == 'paper':\n",
        "    if cpu_choice == 'paper':\n",
        "      print(\"It's a tie!\")\n",
        "    elif cpu_choice == 'rock':\n",
        "      print(\"You Win!\") \n",
        "      user_wins+=1\n",
        "    elif cpu_choice == 'scissors':\n",
        "      print(\"You Lose!\")\n",
        "      computer_wins+=1\n",
        "  elif user_choice == 'scissors':\n",
        "    if cpu_choice == 'scissors':\n",
        "      print(\"It's a tie!\")\n",
        "    elif cpu_choice == 'paper':\n",
        "      print(\"You Win!\")\n",
        "      user_wins+=1\n",
        "    elif cpu_choice == 'rock':\n",
        "      print(\"You Lose!\")\n",
        "      computer_wins+=1\n",
        "\n",
        "  print()\n",
        "  print(\"You have \"+str(user_wins)+\" wins\")\n",
        "  print(\"The computer has \"+str(computer_wins)+\" wins\")\n",
        "  print()\n",
        "\n",
        "  repeat = input(\"Play again? (Y/N) \").lower()\n",
        "  while repeat not in ['y', 'n']:\n",
        "   repeat = input(\"That is not a valid choice. Please try again: \").lower()\n",
        "\n",
        "  if repeat == 'n':\n",
        "    print(\"Bye bye\")\n",
        "    break\n",
        "  \n",
        "  print(\"\\n-----------------------------\\n\")\n"
      ],
      "execution_count": null,
      "outputs": [
        {
          "output_type": "stream",
          "text": [
            "Welcome to Rock, Paper, Scissors! Press Enter to Start.\n",
            "\n",
            "Rock, Paper, or Scissors? Paper\n",
            "\n",
            "Your choice: paper\n",
            "Computer's choice: paper\n",
            "\n",
            "It's a tie!\n",
            "\n",
            "You have 0 wins\n",
            "The computer has 0 wins\n",
            "\n",
            "Play again? (Y/N) scissors\n",
            "That is not a valid choice. Please try again: \n",
            "That is not a valid choice. Please try again: ok\n",
            "That is not a valid choice. Please try again: y\n",
            "\n",
            "-----------------------------\n",
            "\n",
            "Rock, Paper, or Scissors? scissors\n",
            "\n",
            "Your choice: scissors\n",
            "Computer's choice: rock\n",
            "\n",
            "You Lose!\n",
            "\n",
            "You have 0 wins\n",
            "The computer has 1 wins\n",
            "\n",
            "Play again? (Y/N) y\n",
            "\n",
            "-----------------------------\n",
            "\n",
            "Rock, Paper, or Scissors? rock\n",
            "\n",
            "Your choice: rock\n",
            "Computer's choice: scissors\n",
            "\n",
            "You Win!\n",
            "\n",
            "You have 1 wins\n",
            "The computer has 1 wins\n",
            "\n"
          ],
          "name": "stdout"
        }
      ]
    }
  ]
}
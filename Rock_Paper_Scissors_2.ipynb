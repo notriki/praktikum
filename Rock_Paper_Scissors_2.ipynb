{
  "nbformat": 4,
  "nbformat_minor": 0,
  "metadata": {
    "colab": {
      "name": "Rock-Paper-Scissors-2.ipynb",
      "provenance": [],
      "collapsed_sections": [],
      "authorship_tag": "ABX9TyPu/VDx5pKsLZXBdNMMBdYW",
      "include_colab_link": true
    },
    "kernelspec": {
      "name": "python3",
      "display_name": "Python 3"
    },
    "language_info": {
      "name": "python"
    }
  },
  "cells": [
    {
      "cell_type": "markdown",
      "metadata": {
        "id": "view-in-github",
        "colab_type": "text"
      },
      "source": [
        "<a href=\"https://colab.research.google.com/github/notriki/praktikum/blob/main/Rock_Paper_Scissors_2.ipynb\" target=\"_parent\"><img src=\"https://colab.research.google.com/assets/colab-badge.svg\" alt=\"Open In Colab\"/></a>"
      ]
    },
    {
      "cell_type": "code",
      "metadata": {
        "id": "PK8gZ3cHM_tY"
      },
      "source": [
        "from random import randrange\n",
        "\n",
        "#The list will be understood when you go further into the code\n",
        "Player_Options=[\"1\",\"2\",\"3\"]\n",
        "Choices=[\"rock\",\"paper\",\"scissors.\"]\n",
        "AI_Loses=[\"scissors\",\"rock\", \"paper.\"]\n",
        "AI_Wins=[\"paper\",\"scissors\",\"rock.\"]### 1. Mendefinisikan variabel yang dibutuhkan\n",
        "Difficulties=Player_Options\n"
      ],
      "execution_count": 25,
      "outputs": []
    },
    {
      "cell_type": "code",
      "metadata": {
        "id": "26g9RvpGOMcu"
      },
      "source": [
        "#AI will not choose, each difficultyhas a different probability of outcome\n",
        "#AI's roll will result in a win, lose or  draw\n",
        "\n",
        "def Play(x,y):\n",
        "    if AI in range(1,x):\n",
        "        Win()\n",
        "    elif AI in range(x,y):\n",
        "        Draw()\n",
        "    else:\n",
        "        Lose()\n",
        "\n",
        "#AI's roll will result in the outcome, we manipulate AI's choice using indexing\n",
        "#Hence why the lists were arranged in that manner\n",
        "def Win():\n",
        "    Message(Choices,AI_Loses,\"You Win!\")\n",
        "\n",
        "def Draw():\n",
        "    Message(Choices,Choices,\"It's a draw!\")\n",
        "def Lose():\n",
        "    Message(Choices,AI_Wins,\"You lost!\")\n",
        "\n",
        "def Message(PlayerChoice,AIChoice,OutcomeMessage):\n",
        "    print(\"You choose\",PlayerChoice[Player],\"AI chose\",AIChoice[Player])\n",
        "    print(OutcomeMessage)"
      ],
      "execution_count": 26,
      "outputs": []
    },
    {
      "cell_type": "code",
      "metadata": {
        "colab": {
          "base_uri": "https://localhost:8080/"
        },
        "id": "T_yao8YkRXZ-",
        "outputId": "08c5221c-0771-4ea6-eecf-31cd58f411b0"
      },
      "source": [
        "#Here is where the game starts\n",
        "while True:\n",
        "\n",
        "  #AI rolls, Player chooses Difficulty\n",
        "  while True:\n",
        "      AI=randrange(1,11)\n",
        "      print(\"1 Easy, 2 Medium, 3 Hard\")\n",
        "      Difficulty=input(\"Select Difficulty\")\n",
        "      if Difficulty in Difficulties:\n",
        "        Diff=int(Difficulty)\n",
        "\n",
        "        #Easy\n",
        "        if Diff==1:\n",
        "          print(\"Easy difficulty!\")\n",
        "          while True:\n",
        "              Player=input(\"1:Rock, 2:Paper, 3:Scissors\")\n",
        "              if Player in Player_Options:\n",
        "                  Player=int(Player)-1\n",
        "                  Play(6,9)\n",
        "                  break\n",
        "              else:\n",
        "                  continue\n",
        "\n",
        "        elif Diff==2:\n",
        "          print(\"Medium Difficulty!\")\n",
        "          while True:\n",
        "              Player=input(\"1:Rock, 2:Paper, 3:Scissors\")\n",
        "              if Player in Player_Options:\n",
        "                  Player=int(Player)-1\n",
        "                  Play(5,7)\n",
        "                  break\n",
        "              else:\n",
        "                  continue\n",
        "\n",
        "        else:\n",
        "          print(\"Hard Difficulty!\")\n",
        "          while True:\n",
        "              Player=input(\"1:Rock, 2:Paper, 3:Scissors\")\n",
        "              if Player in Player_Options:\n",
        "                  Player=int(Player)-1\n",
        "                  Play(4,7)\n",
        "                  break\n",
        "              else:\n",
        "                  continue\n",
        "        break\n",
        "\n",
        "      else:\n",
        "        continue #Player didn't choose valid difficulty\n",
        "\n",
        "  Replay=input(\"Enter X to quit, Enter any key to play again.\")\n",
        "  if Replay==\"x\" or Replay==\"X\":\n",
        "      print(\"Bye bye\")\n",
        "      break"
      ],
      "execution_count": null,
      "outputs": [
        {
          "output_type": "stream",
          "text": [
            "1 Easy, 2 Medium, 3 Hard\n",
            "Select Difficulty3\n",
            "Hard Difficulty!\n",
            "1:Rock, 2:Paper, 3:Scissors2\n",
            "You choose paper AI chose scissors\n",
            "You lost!\n",
            "Enter X to quit, Enter any key to play again.\n",
            "1 Easy, 2 Medium, 3 Hard\n",
            "Select Difficulty1\n",
            "Easy difficulty!\n",
            "1:Rock, 2:Paper, 3:Scissors1\n",
            "You choose rock AI chose scissors\n",
            "You Win!\n",
            "Enter X to quit, Enter any key to play again.\n",
            "1 Easy, 2 Medium, 3 Hard\n",
            "Select Difficulty3\n",
            "Hard Difficulty!\n",
            "1:Rock, 2:Paper, 3:Scissors3\n",
            "You choose scissors. AI chose scissors.\n",
            "It's a draw!\n",
            "Enter X to quit, Enter any key to play again.2\n",
            "1 Easy, 2 Medium, 3 Hard\n",
            "Select Difficulty3\n",
            "Hard Difficulty!\n",
            "1:Rock, 2:Paper, 3:Scissors2\n",
            "You choose paper AI chose paper\n",
            "It's a draw!\n",
            "Enter X to quit, Enter any key to play again.\n",
            "1 Easy, 2 Medium, 3 Hard\n",
            "Select Difficulty2\n",
            "Medium Difficulty!\n",
            "1:Rock, 2:Paper, 3:Scissors3\n",
            "You choose scissors. AI chose rock.\n",
            "You lost!\n"
          ],
          "name": "stdout"
        }
      ]
    }
  ]
}